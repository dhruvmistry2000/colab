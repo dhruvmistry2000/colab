{
  "nbformat": 4,
  "nbformat_minor": 0,
  "metadata": {
    "colab": {
      "provenance": [],
      "toc_visible": true,
      "include_colab_link": true
    },
    "kernelspec": {
      "name": "python3",
      "display_name": "Python 3"
    },
    "language_info": {
      "name": "python"
    }
  },
  "cells": [
    {
      "cell_type": "markdown",
      "metadata": {
        "id": "view-in-github",
        "colab_type": "text"
      },
      "source": [
        "<a href=\"https://colab.research.google.com/github/dhruvmistry2000/colab/blob/main/200050131015.ipynb\" target=\"_parent\"><img src=\"https://colab.research.google.com/assets/colab-badge.svg\" alt=\"Open In Colab\"/></a>"
      ]
    },
    {
      "cell_type": "markdown",
      "source": [],
      "metadata": {
        "id": "3M32bX5XLO8h"
      }
    },
    {
      "cell_type": "markdown",
      "source": [
        "# 1) Write a program to find sum of two integers.\n",
        "\n"
      ],
      "metadata": {
        "id": "ris5przJLQd_"
      }
    },
    {
      "cell_type": "code",
      "source": [
        "a = int(input(\"first number : \"))\n",
        "b = int(input(\"second number : \"))\n",
        "c = a+b\n",
        "print(\"sum : \", + c )"
      ],
      "metadata": {
        "colab": {
          "base_uri": "https://localhost:8080/"
        },
        "id": "Lo_nLNVgLUY3",
        "outputId": "e75d4add-5dd1-4303-d0f1-586b9b4d12b4"
      },
      "execution_count": null,
      "outputs": [
        {
          "output_type": "stream",
          "name": "stdout",
          "text": [
            "first number : 66\n",
            "second number : 3\n",
            "sum :  69\n"
          ]
        }
      ]
    },
    {
      "cell_type": "markdown",
      "source": [
        "# 2) Write a python program to find area of circle.\n",
        "\n"
      ],
      "metadata": {
        "id": "nPqBwTxjLiUH"
      }
    },
    {
      "cell_type": "code",
      "source": [
        "rad = int(input(\"Enter radius of circle = \"))\n",
        "area = 2*3.14*rad\n",
        "print(\"The area of circle is \", area)"
      ],
      "metadata": {
        "colab": {
          "base_uri": "https://localhost:8080/"
        },
        "id": "fObC1PjELljH",
        "outputId": "af9f14cc-3c03-445c-e5b1-3db4563588b8"
      },
      "execution_count": null,
      "outputs": [
        {
          "output_type": "stream",
          "name": "stdout",
          "text": [
            "Enter radius of circle = 2\n",
            "The area of circle is  12.56\n"
          ]
        }
      ]
    },
    {
      "cell_type": "markdown",
      "source": [
        "# 3) Write a python program which input string and perform operations like finding length of string,  convert string into upper case, lower case, finding no of occurrences of character."
      ],
      "metadata": {
        "id": "M6xitmYAMAPv"
      }
    },
    {
      "cell_type": "code",
      "source": [
        "str1 = input(\"Enter the String = \")\n",
        "print(\"The length of string is \", len(str1))\n",
        "print(\"The string in Upper case is \", str1.upper())\n",
        "print(\"The string in lower case is \", str1.lower())"
      ],
      "metadata": {
        "id": "VwwrqjLkMKfe",
        "colab": {
          "base_uri": "https://localhost:8080/"
        },
        "outputId": "1666cc3a-e6fd-4674-908b-bb60f4b741eb"
      },
      "execution_count": null,
      "outputs": [
        {
          "output_type": "stream",
          "name": "stdout",
          "text": [
            "Enter the String = dhruv\n",
            "The length of string is  5\n",
            "The string in Upper case is  DHRUV\n",
            "The string in lower case is  dhruv\n"
          ]
        }
      ]
    },
    {
      "cell_type": "markdown",
      "source": [
        "# 4)Write a python program which input an array/s and perform various operations on it like,  finding length, insert element, delete element, search, update element, concatenation."
      ],
      "metadata": {
        "id": "CFhptk4MNl28"
      }
    },
    {
      "cell_type": "code",
      "source": [
        "import array as arr\n",
        "\n",
        "a = arr.array('i', [1, 2, 3])\n",
        "b = arr.array('i', [9, 8 ,7])\n",
        "\n",
        "print(\"The array is \", a)\n",
        "\n",
        "print(\"The length of array is \", len(a))\n",
        "\n",
        "a.insert(4,6)\n",
        "print(\"The array after inserting element is \", a )\n",
        "\n",
        "a.remove(1)\n",
        "print(\"The array after deleting element is \", a)\n",
        "\n",
        "print(\"The index of 2 is \", a.index(2))\n",
        "a.append(99)\n",
        "print( \"The updated array is \" , a)\n",
        "\n",
        "print(\"The concatinated array is \", a+b)"
      ],
      "metadata": {
        "id": "nMfiA2a7RRh5",
        "outputId": "2093c626-979a-49c8-80e2-56c96e9754e9",
        "colab": {
          "base_uri": "https://localhost:8080/"
        }
      },
      "execution_count": null,
      "outputs": [
        {
          "output_type": "stream",
          "name": "stdout",
          "text": [
            "The array is  array('i', [1, 2, 3])\n",
            "The length of array is  3\n",
            "The array after inserting element is  array('i', [1, 2, 3, 6])\n",
            "The array after deleting element is  array('i', [2, 3, 6])\n",
            "The index of 2 is  0\n",
            "The updated array is  array('i', [2, 3, 6, 99])\n",
            "The concatinated array is  array('i', [2, 3, 6, 99, 9, 8, 7])\n"
          ]
        }
      ]
    },
    {
      "cell_type": "markdown",
      "source": [
        "# 5)Write a python program which input list and perform operations like find length of list, insert  element into list, remove element from list, clear whole list, copy list, slicing of list, search  element, join two lists, extend list."
      ],
      "metadata": {
        "id": "fo6eKppEkhoM"
      }
    },
    {
      "cell_type": "code",
      "source": [
        "lis = [2, 3, 6, 88, 99]\n",
        "lis2 = [8, 6, 33, 666]\n",
        "print(\"The list1 is \", lis)\n",
        "\n",
        "print(\"The length of list1 is \", len(lis))\n",
        "\n",
        "lis.insert(6, 55)\n",
        "print(\"The list1 after inserting element is \", lis)\n",
        "\n",
        "lis.remove(3)\n",
        "print(\"The list1 after removing element is \", lis)\n",
        "\n",
        "lis3 = lis.copy()\n",
        "print(\"List3 is the copy of list1 and the elements are \" , lis3)\n",
        "\n",
        "print(\"The index of 99 is \", lis.index(99))\n",
        "\n",
        "print(\"Adding list1 and list2 and the result is \", lis+lis2)\n",
        "\n",
        "lis.extend(lis3)\n",
        "print(\"The extended list is \", lis)\n",
        "\n",
        "lis3.clear()\n",
        "print(\"the list3 is clear and the list is \", lis3)"
      ],
      "metadata": {
        "id": "p0_vkcTI9_Sq",
        "outputId": "df7c43ff-8ff3-40dd-b1b5-bfa99d28dc51",
        "colab": {
          "base_uri": "https://localhost:8080/"
        }
      },
      "execution_count": null,
      "outputs": [
        {
          "output_type": "stream",
          "name": "stdout",
          "text": [
            "The list1 is  [2, 3, 6, 88, 99]\n",
            "The length of list1 is  5\n",
            "The list1 after inserting element is  [2, 3, 6, 88, 99, 55]\n",
            "The list1 after removing element is  [2, 6, 88, 99, 55]\n",
            "List3 is the copy of list1 and the elements are  [2, 6, 88, 99, 55]\n",
            "The index of 99 is  3\n",
            "Adding list1 and list2 and the result is  [2, 6, 88, 99, 55, 8, 6, 33, 666]\n",
            "The extended list is  [2, 6, 88, 99, 55, 2, 6, 88, 99, 55]\n",
            "the list3 is clear and the list is  []\n"
          ]
        }
      ]
    },
    {
      "cell_type": "markdown",
      "source": [
        "#6)Write a python program which find length of tuple, create tuple with repetition, performs slicing  of tuple, delete tuple, concatenation tuples, and convert list into tuple. "
      ],
      "metadata": {
        "id": "iEqWNDfiklUM"
      }
    },
    {
      "cell_type": "code",
      "source": [
        "tup1 = (1, 23, 3, 4, 5, 1, 3, 1, 2, 1)\n",
        "tup2 = (\"false\",\"meet\", 6, 88)\n",
        "print(\"The first element of tuple1 is \", tup1[1])\n",
        "\n",
        "\n",
        "print(\"The element '1' appers \", tup1.count(1), \"times\")\n",
        "\n",
        "print(\"The length of tuple1 is \", len(tup1))\n",
        "\n",
        "\n",
        "print(\"The sliced tuple 1 is \", tup1[4:9])\n",
        "tup3 = tup1 + tup2\n",
        "\n",
        "print(\"The addtion of tuple1 and tuple2 is \", tup3)\n",
        "\n",
        "del tup3\n",
        "# print(\"The tuple 3 is deleted \", tup3)\n",
        "\n",
        "\n",
        "tup4 =[2.31, 34,\"Dhruv\", \"5\"]\n",
        "lis1   = (tup4)\n",
        "print(\"The tuple4 is converted into a list\", lis1)\n"
      ],
      "metadata": {
        "colab": {
          "base_uri": "https://localhost:8080/"
        },
        "id": "dy0yh8I8phJ_",
        "outputId": "dc927238-db82-46a9-b24e-2500c70b6b66"
      },
      "execution_count": null,
      "outputs": [
        {
          "output_type": "stream",
          "name": "stdout",
          "text": [
            "The first element of tuple1 is  23\n",
            "The element '1' appers  4 times\n",
            "The length of tuple1 is  10\n",
            "The sliced tuple 1 is  (5, 1, 3, 1, 2)\n",
            "The addtion of tuple1 and tuple2 is  (1, 23, 3, 4, 5, 1, 3, 1, 2, 1, 'false', 'meet', 6, 88)\n",
            "The tuple4 is convetred into a list [2.31, 34, 'Dhruv', '5']\n"
          ]
        }
      ]
    },
    {
      "cell_type": "markdown",
      "source": [
        "#7)Write a python program which print set, search items in set, add item, add multiple items, find  the length of set, delete the element from set using various methods, empty the set using  various methods, and join two sets."
      ],
      "metadata": {
        "id": "BIRkb4yIkqDo"
      }
    },
    {
      "cell_type": "code",
      "source": [
        "set1 ={5,33,999,2200,66}\n",
        "set2={\"dhruv\",\"robot\",\"musk\"}\n",
        "\n",
        "print(\"The set1 is \", set1)\n",
        "\n",
        "set1.add(29)\n",
        "print(\"Set1 after adding an element :-\", set1)\n",
        "\n",
        "set1.update([10,2412,404])\n",
        "print(\"The updated set1 :- \", set1 )\n",
        "\n",
        "print(\"The length of set1 is \", len(set1))\n",
        "\n",
        "set1.pop()\n",
        "print(\"The set1 after using pop function is \", set1)\n",
        "\n",
        "set1.remove(29)\n",
        "print(\"The set1 after removing 29 :- \" , set1)\n",
        "\n",
        "set1.discard(2200)\n",
        "print(\"Set1 after discarding 2200 :- \", set1 )\n",
        "\n",
        "set3 = set1.union(set2)\n",
        "print(\"set1 U set2 :- \", set3)\n",
        "\n",
        "set1.clear()\n",
        "print(\"Set1 after clearing :- \", set1)"
      ],
      "metadata": {
        "colab": {
          "base_uri": "https://localhost:8080/"
        },
        "id": "S4xtM5mSpxeP",
        "outputId": "d643a16f-3fc3-4e7d-bd25-79a1e541c4f1"
      },
      "execution_count": null,
      "outputs": [
        {
          "output_type": "stream",
          "name": "stdout",
          "text": [
            "The set1 is  {33, 66, 5, 999, 2200}\n",
            "Set1 after adding an element :- {33, 66, 5, 999, 2200, 29}\n",
            "The updated set1 :-  {33, 66, 5, 999, 10, 2412, 404, 2200, 29}\n",
            "The length of set1 is  9\n",
            "The set1 after using pop function is  {66, 5, 999, 10, 2412, 404, 2200, 29}\n",
            "The set1 after removing 29 :-  {66, 5, 999, 10, 2412, 404, 2200}\n",
            "Set1 after discarding 2200 :-  {66, 5, 999, 10, 2412, 404}\n",
            "set1 U set2 :-  {'musk', 66, 'dhruv', 5, 999, 10, 2412, 404, 'robot'}\n",
            "Set1 after clearing :-  set()\n"
          ]
        }
      ]
    },
    {
      "cell_type": "markdown",
      "source": [
        "#8)Write a python program which print dictionary, accessing items of dictionary using various  methods, change value of specific item, display dictionary using loop, display dictionary using  loop and items() method, check key is exist or not in dictionary, find length of dictionary, add  items in dictionary, remove items from dictionary using various methods, empty dictionary  using various methods, copy dictionary using various methods."
      ],
      "metadata": {
        "id": "rt-Ha-HWkuoj"
      }
    },
    {
      "cell_type": "code",
      "source": [
        "dict1 = {\"elon\": 60,\"jobs\": 80}\n",
        "dict2 = {\"potato\":20,\"tamato\":13,\"brinjal\":30}\n",
        "\n",
        "print(\"The age of Elon is \", dict1[\"elon\"])\n",
        "\n",
        "print(\"The dictionary1 is \", dict1 )\n",
        "dict1[\"gates\"]=72\n",
        "print(\"The dictionary 1 after adding a new element :-  \", dict1)\n",
        "\n",
        "dict1[\"elon\"]=45\n",
        "print(\"The updated age of elon is \", dict1[\"elon\"])\n",
        "\n",
        "for x in dict1:\n",
        "    print(x)\n",
        "for x in dict1.values():\n",
        "    print(x)\n",
        "for x,y in dict1.items():\n",
        "    print(x,y)\n",
        "def checkKey(a, key):\n",
        "    if key in dict1.keys():\n",
        "        print(\"Present, \", end =\" \")\n",
        "        print(\"value =\", dict1[key])\n",
        "    else:\n",
        "        print(\"Not present\")\n",
        "key=\"elon\"\n",
        "checkKey(dict1,key)\n",
        "\n",
        "print(\"The dictionary1 length :- \", len(dict1))\n",
        "\n",
        "dict1.pop(\"jobs\")\n",
        "print(\"The dictionary1 after poping jobs :- \", dict1)\n",
        "\n",
        "dict1.popitem()\n",
        "print(\"The dictionary1 after poping is \", dict1)\n",
        "\n",
        "dict1.clear()\n",
        "print(\"Dictionary1 after clearing:- \", dict1)\n",
        "\n",
        "dict3 = dict2.copy()\n",
        "print(\"Dictionary1 copied in dictionary 2 :-\", dict2)"
      ],
      "metadata": {
        "colab": {
          "base_uri": "https://localhost:8080/"
        },
        "id": "Gbvh57zBuK8r",
        "outputId": "23613226-5069-4cc7-bf37-8912cbf1c4ae"
      },
      "execution_count": null,
      "outputs": [
        {
          "output_type": "stream",
          "name": "stdout",
          "text": [
            "The age of Elon is  60\n",
            "The dictionary1 is  {'elon': 60, 'jobs': 80}\n",
            "The dictionary 1 after adding a new element :-   {'elon': 60, 'jobs': 80, 'gates': 72}\n",
            "The updated age of elon is  45\n",
            "elon\n",
            "jobs\n",
            "gates\n",
            "45\n",
            "80\n",
            "72\n",
            "elon 45\n",
            "jobs 80\n",
            "gates 72\n",
            "Present,  value = 45\n",
            "The dictionary1 length :-  3\n",
            "The dictionary1 after poping jobs :-  {'elon': 45, 'gates': 72}\n",
            "The dictionary1 after poping is  {'elon': 45}\n",
            "Dictionary1 after clearing:-  {}\n",
            "Dictionary1 copied in dictionary 2 :- {'potato': 20, 'tamato': 13, 'brinjal': 30}\n"
          ]
        }
      ]
    },
    {
      "cell_type": "markdown",
      "source": [
        "#9)Write a python program to find max value from two values using function.\n",
        "\n"
      ],
      "metadata": {
        "id": "bC3rgZdNOwxj"
      }
    },
    {
      "cell_type": "code",
      "source": [
        "a = int(input(\"Enter Number 1 = \"))\n",
        "b = int(input(\"Enter Number 2 = \"))\n",
        "\n",
        "def max(a , b):\n",
        "    if a > b:\n",
        "        print(\"a is greater\")\n",
        "    else:\n",
        "        print(\"b is greater\")\n",
        "        \n",
        "max(a, b)"
      ],
      "metadata": {
        "colab": {
          "base_uri": "https://localhost:8080/"
        },
        "id": "lpVcAAPSNqHM",
        "outputId": "a655cf63-ea23-4140-a70a-d2709ff702ce"
      },
      "execution_count": null,
      "outputs": [
        {
          "output_type": "stream",
          "name": "stdout",
          "text": [
            "Enter Number 1 = 55\n",
            "Enter Number 2 = 66\n",
            "b is greater\n"
          ]
        }
      ]
    },
    {
      "cell_type": "markdown",
      "source": [
        "#10) Write a python program to find factorial of number using function."
      ],
      "metadata": {
        "id": "y1kf6pYvtsGy"
      }
    },
    {
      "cell_type": "code",
      "source": [
        "num = int(input(\"Enter a number = \"))\n",
        "\n",
        "def factorial(n):\n",
        "    if n < 0:\n",
        "        return 0\n",
        "    elif n == 0 or n == 1:\n",
        "        return 1\n",
        "    else:\n",
        "        fact = 1\n",
        "        while (n > 1):\n",
        "            fact *= n\n",
        "            n -= 1\n",
        "        return fact\n",
        "\n",
        "print(\"Factorial of\", num, \"is\",\n",
        "      factorial(num))\n"
      ],
      "metadata": {
        "colab": {
          "base_uri": "https://localhost:8080/"
        },
        "id": "kPaOhonaP63L",
        "outputId": "39b7821c-10c8-45a4-9554-6098ee307343"
      },
      "execution_count": null,
      "outputs": [
        {
          "output_type": "stream",
          "name": "stdout",
          "text": [
            "Enter a number = 6\n",
            "Factorial of 6 is 720\n"
          ]
        }
      ]
    },
    {
      "cell_type": "markdown",
      "source": [
        "#11) Write a python program using function which display first name and last name in reverse as well  according to user choice"
      ],
      "metadata": {
        "id": "bzYt2secSsF4"
      }
    },
    {
      "cell_type": "code",
      "source": [
        "firstname = input(\"Enter your first name : \")\n",
        "lastname = input(\"Enter your second name : \")\n",
        "print(\"Welcome \" + lastname + \" \" + firstname)"
      ],
      "metadata": {
        "id": "bfU1oxwHX4AC",
        "colab": {
          "base_uri": "https://localhost:8080/"
        },
        "outputId": "da2489e8-c03d-4434-f1d4-8f3597a3f444"
      },
      "execution_count": null,
      "outputs": [
        {
          "output_type": "stream",
          "name": "stdout",
          "text": [
            "Enter your first name : dhruv\n",
            "Enter your second name : mistry\n",
            "Welcome mistry dhruv\n"
          ]
        }
      ]
    },
    {
      "cell_type": "markdown",
      "source": [
        "#12) Write a python program which shows the use of argument/s default value in function."
      ],
      "metadata": {
        "id": "2_0SEtelUkEp"
      }
    },
    {
      "cell_type": "code",
      "source": [
        "a = int(input(\"Enter any number:-\"))\n",
        "def add(b):\n",
        " return a+b\n",
        "print(f\"The sum is {add(5)}\")"
      ],
      "metadata": {
        "colab": {
          "base_uri": "https://localhost:8080/"
        },
        "id": "G7Qwn5SyuYKb",
        "outputId": "0eea0f85-4be6-47c5-e373-3ec34cb9ecd5"
      },
      "execution_count": null,
      "outputs": [
        {
          "output_type": "stream",
          "name": "stdout",
          "text": [
            "Enter any number:-6\n",
            "The sum is 11\n"
          ]
        }
      ]
    },
    {
      "cell_type": "markdown",
      "source": [
        "#13)Write a python program which finds factorial of number using recursion."
      ],
      "metadata": {
        "id": "sEOn8kwbVvM0"
      }
    },
    {
      "cell_type": "code",
      "source": [
        "num = int(input(\"Enter a number = \"))\n",
        "\n",
        "def factorial(n):\n",
        "\n",
        "    if (n == 1 or n == 0):\n",
        "        return 1\n",
        "    else:\n",
        "        return (n * factorial(n - 1))\n",
        "\n",
        "print(\"Factorial : \", factorial(num))"
      ],
      "metadata": {
        "colab": {
          "base_uri": "https://localhost:8080/"
        },
        "id": "yDFPO5-hVmxm",
        "outputId": "4219a1d1-b747-40e9-8ef4-b9519da8dc5d"
      },
      "execution_count": null,
      "outputs": [
        {
          "output_type": "stream",
          "name": "stdout",
          "text": [
            "Enter a number = 9\n",
            "Factorial :  362880\n"
          ]
        }
      ]
    },
    {
      "cell_type": "markdown",
      "source": [
        "#14)Write a python program which print Fibonacci series using recursive function.\n"
      ],
      "metadata": {
        "id": "kvPK86ahXSMN"
      }
    },
    {
      "cell_type": "code",
      "source": [
        "num = int(input(\"Enter a number\"))\n",
        "\n",
        "def recur_fibo(n):\n",
        "   if n <= 1:\n",
        "       return n\n",
        "   else:\n",
        "       return(recur_fibo(n-1) + recur_fibo(n-2))\n",
        "\n",
        "print(\"Fibonacci sequence: \")\n",
        "for i in range(num):\n",
        " print(recur_fibo(i))\n"
      ],
      "metadata": {
        "colab": {
          "base_uri": "https://localhost:8080/"
        },
        "id": "mpBXKOvfXL4l",
        "outputId": "c637fe31-96c7-415c-ba1d-e6d0d7cbfb5b"
      },
      "execution_count": null,
      "outputs": [
        {
          "output_type": "stream",
          "name": "stdout",
          "text": [
            "Enter a number6\n",
            "Fibonacci sequence:\n",
            "0\n",
            "1\n",
            "1\n",
            "2\n",
            "3\n",
            "5\n"
          ]
        }
      ]
    },
    {
      "cell_type": "markdown",
      "source": [
        "#15)Write a python program to implement student class having rno, name as class variables. Also use constructor and write input and display functions"
      ],
      "metadata": {
        "id": "4UFCKW-MvidY"
      }
    },
    {
      "cell_type": "code",
      "source": [
        "class Student:\n",
        "  stuCount = 0\n",
        "  def __init__(self): \n",
        "    self.name = input('Student name:') \n",
        "    self.rollno = input('Student rollno:') \n",
        "    Student.stuCount += 1 \n",
        "  def displayStudent(self): \n",
        "    print(\"Name:\", self.name, \"\\nRollno:\", self.rollno)\n",
        "\n",
        "s1 = Student()\n",
        "s1.displayStudent() "
      ],
      "metadata": {
        "id": "DA8cp-UdvoZo",
        "outputId": "3a317e30-3eba-4f3a-81d2-55f621d1f151",
        "colab": {
          "base_uri": "https://localhost:8080/"
        }
      },
      "execution_count": null,
      "outputs": [
        {
          "output_type": "stream",
          "name": "stdout",
          "text": [
            "Student name:Dhruv Mistry\n",
            "Student rollno:015\n",
            "Name: Dhruv Mistry \n",
            "Rollno: 015\n"
          ]
        }
      ]
    },
    {
      "cell_type": "markdown",
      "source": [
        "# 16) Write a program using Numpy to capitalize the first letter, lower case, upper case, swap case and title case of all the elements of a given array"
      ],
      "metadata": {
        "id": "6nakFjiFv5Zh"
      }
    },
    {
      "cell_type": "code",
      "source": [
        "import numpy as np\n",
        "a = np.array([\"Gift\",\"Cake\",\"party\"])\n",
        "print(\"Given words :\",a)\n",
        "print(\"words in capital :\",np.char.capitalize(a))\n",
        "print(\"lower case words :\",np.char.lower(a))\n",
        "print(\"upper case words :\",np.char.upper(a))\n",
        "print(\"swap case words :\",np.char.swapcase(a))\n",
        "print(\"title case words :\",np.char.title(a))"
      ],
      "metadata": {
        "colab": {
          "base_uri": "https://localhost:8080/"
        },
        "id": "kAOUc--Tv9XI",
        "outputId": "c2e7d625-6df2-42d4-ae07-2797788591db"
      },
      "execution_count": null,
      "outputs": [
        {
          "output_type": "stream",
          "name": "stdout",
          "text": [
            "Given words : ['Gift' 'Cake' 'party']\n",
            "words in capital : ['Gift' 'Cake' 'Party']\n",
            "lower case words : ['gift' 'cake' 'party']\n",
            "upper case words : ['GIFT' 'CAKE' 'PARTY']\n",
            "swap case words : ['gIFT' 'cAKE' 'PARTY']\n",
            "title case words : ['Gift' 'Cake' 'Party']\n"
          ]
        }
      ]
    },
    {
      "cell_type": "markdown",
      "source": [
        "#17)Write a program using Numpy to encode all the elements of the given array in cp037 and  decode it again.\n",
        "\n",
        "# New Section"
      ],
      "metadata": {
        "id": "sMf30xCsxMHV"
      }
    },
    {
      "cell_type": "code",
      "source": [
        "import numpy as np\n",
        "\n",
        "arr = [\"Let\", \"us\", \"play\"]\n",
        "print(\"The array is:- \", arr)\n",
        "\n",
        "enco = np.char.encode(arr, encoding='cp037')\n",
        "print(\"The encoded array is :- \", enco)\n",
        "\n",
        "deco = np.char.decode(enco, encoding='cp037')\n",
        "print(\"The decoded araay is :- \", deco)"
      ],
      "metadata": {
        "colab": {
          "base_uri": "https://localhost:8080/"
        },
        "id": "1VKouqyjxSjv",
        "outputId": "80503e7a-ac46-4a20-ea5e-80518f372d26"
      },
      "execution_count": null,
      "outputs": [
        {
          "output_type": "stream",
          "name": "stdout",
          "text": [
            "The array is:-  ['Let', 'us', 'play']\n",
            "The encoded array is :-  [b'\\xd3\\x85\\xa3' b'\\xa4\\xa2' b'\\x97\\x93\\x81\\xa8']\n",
            "The decoded araay is :-  ['Let' 'us' 'play']\n"
          ]
        }
      ]
    },
    {
      "cell_type": "markdown",
      "source": [
        "# 18)Write a program using numpy that make all the elements of given string to numeric string of 4  digits with zeros on its left.\n",
        "\n"
      ],
      "metadata": {
        "id": "gNGGxXKzyaKE"
      }
    },
    {
      "cell_type": "code",
      "source": [
        "import numpy as np\n",
        "\n",
        "str1 = np.array(['123', '456', '789', '147', '258', '369', '159', '357'], dtype=np.str_)\n",
        "print(\"The array of string is :- \", str1)\n",
        "\n",
        "str2 = np.char.zfill(str1, 8)\n",
        "print(\"The upgraded array of string is:- \", str2)"
      ],
      "metadata": {
        "colab": {
          "base_uri": "https://localhost:8080/"
        },
        "id": "1OFegxd1zp1y",
        "outputId": "ba604557-38be-4ecd-b6d1-110e7adfdb3d"
      },
      "execution_count": null,
      "outputs": [
        {
          "output_type": "stream",
          "name": "stdout",
          "text": [
            "The array of string is :-  ['123' '456' '789' '147' '258' '369' '159' '357']\n",
            "The upgraded array of string is:-  ['00000123' '00000456' '00000789' '00000147' '00000258' '00000369'\n",
            " '00000159' '00000357']\n"
          ]
        }
      ]
    },
    {
      "cell_type": "markdown",
      "source": [
        "#19)Write a program using Numpy to count number of “C” element wise in a given array"
      ],
      "metadata": {
        "id": "Sd3Qhmxq4QAj"
      }
    },
    {
      "cell_type": "code",
      "source": [
        "import numpy as np\n",
        "\n",
        "arr = np.array([\"cat\", \"cold\", \"colab\", \"chirag\", \"apple\", \"banana\", \"choclate\"])\n",
        "print(\"The array string is :- \", arr)\n",
        "\n",
        "arr2 = np.char.count(arr, \"c\")\n",
        "print(\"The number of 'c' are :- \", arr2)"
      ],
      "metadata": {
        "colab": {
          "base_uri": "https://localhost:8080/"
        },
        "id": "j5QadWhM4cZl",
        "outputId": "38cb39bf-efc2-447e-c480-3f7c5e1d3a30"
      },
      "execution_count": null,
      "outputs": [
        {
          "output_type": "stream",
          "name": "stdout",
          "text": [
            "The array string is :-  ['cat' 'cold' 'colab' 'chirag' 'apple' 'banana' 'choclate']\n",
            "The number of 'c' are :-  [1 1 1 1 0 0 2]\n"
          ]
        }
      ]
    },
    {
      "cell_type": "markdown",
      "source": [
        "#20)Write a program using Numpy to test equal, not equal, greater equal, greater and less for all the  elements of two given arrays."
      ],
      "metadata": {
        "id": "adzRoBdP62xf"
      }
    },
    {
      "cell_type": "code",
      "source": [
        "import numpy as np\n",
        "\n",
        "arr1 = np.array(['hello', 'world', 'using', 'python'])\n",
        "arr2 = np.array(['Hello', 'using', 'worldof', 'Python'])\n",
        "print(\"Array1 :- \", arr1)\n",
        "print(\"Array2 :- \", arr2)\n",
        "\n",
        "equl_test = np.char.equal(arr1, arr2)\n",
        "print(\"Equal Test:- \", equl_test)\n",
        "\n",
        "not_equl_test = np.char.not_equal(arr1, arr2)\n",
        "print(\"Not Equal Test:- \", not_equl_test)\n",
        "\n",
        "greater_equl_test = np.char.greater_equal(arr1, arr2)\n",
        "print(\"Greater Equal Test:- \", greater_equl_test)\n",
        "\n",
        "greater_test = np.char.greater(arr1, arr2)\n",
        "print(\"Greater Test:- \", greater_test)\n",
        "\n",
        "lower_test = np.char.less(arr1, arr2)\n",
        "print(\"Lower Test :- \", lower_test)"
      ],
      "metadata": {
        "colab": {
          "base_uri": "https://localhost:8080/"
        },
        "id": "qL8Di8kM67FW",
        "outputId": "dda87392-6947-4b4b-99b7-cad8d65d0c43"
      },
      "execution_count": null,
      "outputs": [
        {
          "output_type": "stream",
          "name": "stdout",
          "text": [
            "Array1 :-  ['hello' 'world' 'using' 'python']\n",
            "Array2 :-  ['Hello' 'using' 'worldof' 'Python']\n",
            "Equal Test:-  [False False False False]\n",
            "Not Equal Test:-  [ True  True  True  True]\n",
            "Greater Equal Test:-  [ True  True False  True]\n",
            "Greater Test:-  [ True  True False  True]\n",
            "Lower Test :-  [False False  True False]\n"
          ]
        }
      ]
    },
    {
      "cell_type": "markdown",
      "source": [
        "#21)Write a program using Numpy to store a given array into a text file and load it."
      ],
      "metadata": {
        "id": "1C5SzjcM-1z8"
      }
    },
    {
      "cell_type": "code",
      "source": [
        "import numpy as npp\n",
        "a = npp.array([23,6,9,85,5,4,4,22])\n",
        "print(\"Array : \", a)\n",
        "\n",
        "npp.savetxt(\"file1.txt\",a)\n",
        "c = npp.loadtxt('file1.txt')\n",
        "print(\"Text file content\", c)"
      ],
      "metadata": {
        "id": "MSYFNgrw-7vY",
        "colab": {
          "base_uri": "https://localhost:8080/"
        },
        "outputId": "7c20f05c-5ecd-4f11-feef-4e487305eff9"
      },
      "execution_count": null,
      "outputs": [
        {
          "output_type": "stream",
          "name": "stdout",
          "text": [
            "Array :  [23  6  9 85  5  4  4 22]\n",
            "Text file content [23.  6.  9. 85.  5.  4.  4. 22.]\n"
          ]
        }
      ]
    },
    {
      "cell_type": "markdown",
      "source": [
        "#22)Write a program using numpy to get dates of yesterday, today and tomorrow"
      ],
      "metadata": {
        "id": "Tn5CmlGhvPIH"
      }
    },
    {
      "cell_type": "code",
      "source": [
        "import numpy as np\n",
        "\n",
        "today = np.datetime64('today', 'D')\n",
        "print(\"Today's Date is \", today)\n",
        "\n",
        "yesterday = np.datetime64('today', 'D') - np.timedelta64( 1, 'D')\n",
        "print(\"Yesterday's Date was\", yesterday)\n",
        "\n",
        "tomorrow = np.datetime64('today', 'D') + np.timedelta64( 1, 'D')\n",
        "print(\"Tomorrow's Date  will be \", tomorrow)"
      ],
      "metadata": {
        "colab": {
          "base_uri": "https://localhost:8080/"
        },
        "id": "sW89nTWSvuGf",
        "outputId": "7cd08607-0897-4dac-8f77-4f10a91ddfaa"
      },
      "execution_count": null,
      "outputs": [
        {
          "output_type": "stream",
          "name": "stdout",
          "text": [
            "Today's Date is  2022-09-06\n",
            "Yesterday's Date was 2022-09-05\n",
            "Tomorrow's Date  will be  2022-09-07\n"
          ]
        }
      ]
    },
    {
      "cell_type": "markdown",
      "source": [
        "#23)Write a program using NumPy to compute the mean, standard deviation, and variance of a given array along the second axis."
      ],
      "metadata": {
        "id": "HXhZizmzwe7e"
      }
    },
    {
      "cell_type": "code",
      "source": [
        "import numpy as np\n",
        "\n",
        "a = np.array([15,6,9,988,7,73,3,6,5])\n",
        "print(\"Array :\", a)\n",
        "\n",
        "mean1 = np.mean(a)\n",
        "print(\"Mean :\", mean1)\n",
        "\n",
        "stad =np.std(a)\n",
        "print(\"standard deviation :\", stad)\n",
        "\n",
        "variance  = np.var(a)\n",
        "print(\"Variance :\", variance)"
      ],
      "metadata": {
        "id": "Hvhuo4v6wo3B",
        "colab": {
          "base_uri": "https://localhost:8080/"
        },
        "outputId": "3bd8fb7d-d3f1-4f86-fb3d-54c5a5b732bf"
      },
      "execution_count": null,
      "outputs": [
        {
          "output_type": "stream",
          "name": "stdout",
          "text": [
            "Array : [ 15   6   9 988   7  73   3   6   5]\n",
            "Mean : 123.55555555555556\n",
            "standard deviation : 306.32956512412545\n",
            "Variance : 93837.8024691358\n"
          ]
        }
      ]
    },
    {
      "cell_type": "markdown",
      "source": [
        "#24)Write a program using Numpy array use to identify negative elements, positive elements and zero elements and store them in respective list and display those lists."
      ],
      "metadata": {
        "id": "bzGmy8xzx6qm"
      }
    },
    {
      "cell_type": "code",
      "source": [
        "import numpy as np\n",
        "arr  = np.array([0, -69, 0, -9, 6, 45, -655, 0, -55])\n",
        "print(\"Array :\", arr)\n",
        "\n",
        "positive = 0\n",
        "negative = 0\n",
        "zero = 0\n",
        "\n",
        "for num in arr :\n",
        "    if num > 0:\n",
        "        positive += 1\n",
        "    elif num == 0:\n",
        "        zero += 1\n",
        "    elif num < 0:\n",
        "        negative += 1\n",
        "\n",
        "print(\"Positive numbers in the list: \", positive)\n",
        "print(\"Negative numbers in the list: \", negative)\n",
        "print(\"Zeros in the list: \", zero)"
      ],
      "metadata": {
        "colab": {
          "base_uri": "https://localhost:8080/"
        },
        "id": "om0gVYJIyDh9",
        "outputId": "a39741b8-f866-4062-8b60-6042b44eb31e"
      },
      "execution_count": null,
      "outputs": [
        {
          "output_type": "stream",
          "name": "stdout",
          "text": [
            "Array : [   0  -69    0   -9    6   45 -655    0  -55]\n",
            "Positive numbers in the list:  2\n",
            "Negative numbers in the list:  4\n",
            "Zeros in the list:  3\n"
          ]
        }
      ]
    },
    {
      "cell_type": "markdown",
      "source": [
        "#25) Write a Python program which shows advantages of Numpy array over list. Advantages like  memory requirement, time requirement and operations."
      ],
      "metadata": {
        "id": "mtmWIGKNxGzJ"
      }
    },
    {
      "cell_type": "code",
      "source": [],
      "metadata": {
        "id": "V5pNp-TbxPpV"
      },
      "execution_count": null,
      "outputs": []
    }
  ]
}